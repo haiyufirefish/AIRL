{
 "cells": [
  {
   "cell_type": "code",
   "execution_count": 1,
   "metadata": {
    "collapsed": true,
    "pycharm": {
     "is_executing": false
    }
   },
   "outputs": [],
   "source": [
    "import pandas as pd\n",
    "import numpy as np\n",
    "import os\n",
    "\n",
    "ROOT_DIR = '../data/'\n",
    "DATA_DIR = os.path.join(ROOT_DIR, 'JesterDataset3/')\n",
    "data = pd.read_excel(os.path.join(DATA_DIR, 'FINAL_jester_2006-15.xls'),header = None,index_col = None)\n"
   ]
  },
  {
   "cell_type": "code",
   "execution_count": 8,
   "outputs": [
    {
     "data": {
      "text/plain": "   0    1    2    3    4        5    6        7        8    9    ...   141  \\\n0   62   99   99   99   99  0.21875   99 -9.28125 -9.28125   99  ...  99.0   \n1   34   99   99   99   99 -9.68750   99  9.93750  9.53125   99  ...  99.0   \n2   18   99   99   99   99 -9.84375   99 -9.84375 -7.21875   99  ...  99.0   \n3   82   99   99   99   99  6.90625   99  4.75000 -5.90625   99  ...  99.0   \n4   27   99   99   99   99 -0.03125   99 -9.09375 -0.40625   99  ...  99.0   \n\n    142   143   144   145   146   147   148   149   150  \n0  99.0  99.0  99.0  99.0  99.0  99.0  99.0  99.0  99.0  \n1  99.0  99.0  99.0  99.0  99.0  99.0  99.0  99.0  99.0  \n2  99.0  99.0  99.0  99.0  99.0  99.0  99.0  99.0  99.0  \n3  99.0  99.0  99.0  99.0  99.0  99.0  99.0  99.0  99.0  \n4  99.0  99.0  99.0  99.0  99.0  99.0  99.0  99.0  99.0  \n\n[5 rows x 151 columns]",
      "text/html": "<div>\n<style scoped>\n    .dataframe tbody tr th:only-of-type {\n        vertical-align: middle;\n    }\n\n    .dataframe tbody tr th {\n        vertical-align: top;\n    }\n\n    .dataframe thead th {\n        text-align: right;\n    }\n</style>\n<table border=\"1\" class=\"dataframe\">\n  <thead>\n    <tr style=\"text-align: right;\">\n      <th></th>\n      <th>0</th>\n      <th>1</th>\n      <th>2</th>\n      <th>3</th>\n      <th>4</th>\n      <th>5</th>\n      <th>6</th>\n      <th>7</th>\n      <th>8</th>\n      <th>9</th>\n      <th>...</th>\n      <th>141</th>\n      <th>142</th>\n      <th>143</th>\n      <th>144</th>\n      <th>145</th>\n      <th>146</th>\n      <th>147</th>\n      <th>148</th>\n      <th>149</th>\n      <th>150</th>\n    </tr>\n  </thead>\n  <tbody>\n    <tr>\n      <th>0</th>\n      <td>62</td>\n      <td>99</td>\n      <td>99</td>\n      <td>99</td>\n      <td>99</td>\n      <td>0.21875</td>\n      <td>99</td>\n      <td>-9.28125</td>\n      <td>-9.28125</td>\n      <td>99</td>\n      <td>...</td>\n      <td>99.0</td>\n      <td>99.0</td>\n      <td>99.0</td>\n      <td>99.0</td>\n      <td>99.0</td>\n      <td>99.0</td>\n      <td>99.0</td>\n      <td>99.0</td>\n      <td>99.0</td>\n      <td>99.0</td>\n    </tr>\n    <tr>\n      <th>1</th>\n      <td>34</td>\n      <td>99</td>\n      <td>99</td>\n      <td>99</td>\n      <td>99</td>\n      <td>-9.68750</td>\n      <td>99</td>\n      <td>9.93750</td>\n      <td>9.53125</td>\n      <td>99</td>\n      <td>...</td>\n      <td>99.0</td>\n      <td>99.0</td>\n      <td>99.0</td>\n      <td>99.0</td>\n      <td>99.0</td>\n      <td>99.0</td>\n      <td>99.0</td>\n      <td>99.0</td>\n      <td>99.0</td>\n      <td>99.0</td>\n    </tr>\n    <tr>\n      <th>2</th>\n      <td>18</td>\n      <td>99</td>\n      <td>99</td>\n      <td>99</td>\n      <td>99</td>\n      <td>-9.84375</td>\n      <td>99</td>\n      <td>-9.84375</td>\n      <td>-7.21875</td>\n      <td>99</td>\n      <td>...</td>\n      <td>99.0</td>\n      <td>99.0</td>\n      <td>99.0</td>\n      <td>99.0</td>\n      <td>99.0</td>\n      <td>99.0</td>\n      <td>99.0</td>\n      <td>99.0</td>\n      <td>99.0</td>\n      <td>99.0</td>\n    </tr>\n    <tr>\n      <th>3</th>\n      <td>82</td>\n      <td>99</td>\n      <td>99</td>\n      <td>99</td>\n      <td>99</td>\n      <td>6.90625</td>\n      <td>99</td>\n      <td>4.75000</td>\n      <td>-5.90625</td>\n      <td>99</td>\n      <td>...</td>\n      <td>99.0</td>\n      <td>99.0</td>\n      <td>99.0</td>\n      <td>99.0</td>\n      <td>99.0</td>\n      <td>99.0</td>\n      <td>99.0</td>\n      <td>99.0</td>\n      <td>99.0</td>\n      <td>99.0</td>\n    </tr>\n    <tr>\n      <th>4</th>\n      <td>27</td>\n      <td>99</td>\n      <td>99</td>\n      <td>99</td>\n      <td>99</td>\n      <td>-0.03125</td>\n      <td>99</td>\n      <td>-9.09375</td>\n      <td>-0.40625</td>\n      <td>99</td>\n      <td>...</td>\n      <td>99.0</td>\n      <td>99.0</td>\n      <td>99.0</td>\n      <td>99.0</td>\n      <td>99.0</td>\n      <td>99.0</td>\n      <td>99.0</td>\n      <td>99.0</td>\n      <td>99.0</td>\n      <td>99.0</td>\n    </tr>\n  </tbody>\n</table>\n<p>5 rows × 151 columns</p>\n</div>"
     },
     "metadata": {},
     "output_type": "execute_result",
     "execution_count": 8
    }
   ],
   "source": [
    "data.head(5)"
   ],
   "metadata": {
    "collapsed": false,
    "pycharm": {
     "name": "#%%\n",
     "is_executing": false
    }
   }
  },
  {
   "cell_type": "code",
   "execution_count": 2,
   "outputs": [
    {
     "name": "stdout",
     "text": [
      "processing done!\n"
     ],
     "output_type": "stream"
    }
   ],
   "source": [
    "user_dict = {}\n",
    "for index, rows in data.iterrows():\n",
    "    # userId, movieId,rating,_,__ = val\n",
    "    userId = index +1\n",
    "    for index, value in enumerate(rows.values,start=1):\n",
    "        if(value >10 or value<-10):\n",
    "            continue\n",
    "        if userId in user_dict:\n",
    "            user_dict[userId].append((index, value))\n",
    "        else:\n",
    "            user_dict[userId] = [(index, value)]\n",
    "np.save(\"user_dict_jester\", user_dict)\n",
    "print(\"processing done!\")"
   ],
   "metadata": {
    "collapsed": false,
    "pycharm": {
     "name": "#%%\n",
     "is_executing": false
    }
   }
  },
  {
   "cell_type": "code",
   "execution_count": 4,
   "outputs": [
    {
     "name": "stdout",
     "text": [
      "train data done!\n"
     ],
     "output_type": "stream"
    }
   ],
   "source": [
    "hist_len = {}\n",
    "for k, v in user_dict.items():\n",
    "    hist_len[k] = int(len(v))\n",
    "np.save(\"user_hist_jester\", hist_len)\n",
    "print('train data done!')"
   ],
   "metadata": {
    "collapsed": false,
    "pycharm": {
     "name": "#%%\n",
     "is_executing": false
    }
   }
  },
  {
   "cell_type": "code",
   "execution_count": 26,
   "outputs": [
    {
     "name": "stdout",
     "text": [
      "   userId             arr  jokeId   rating\n",
      "0       1    (6, 0.21875)       6  0.21875\n",
      "1       1   (8, -9.28125)       8 -9.28125\n",
      "2       1   (9, -9.28125)       9 -9.28125\n",
      "3       1  (14, -6.78125)      14 -6.78125\n",
      "4       1     (16, 0.875)      16  0.87500\n"
     ],
     "output_type": "stream"
    }
   ],
   "source": [
    "df = pd.Series(user_dict,name = 'arr').rename_axis('userId').explode().reset_index()\n",
    "df['jokeId'],df['rating'] = zip(*df.arr) \n",
    "\n",
    "print(df.head(5))"
   ],
   "metadata": {
    "collapsed": false,
    "pycharm": {
     "name": "#%%\n",
     "is_executing": false
    }
   }
  },
  {
   "cell_type": "code",
   "execution_count": 31,
   "outputs": [
    {
     "name": "stdout",
     "text": [
      "   userId  jokeId   rating\n",
      "0       1       6  0.21875\n",
      "1       1       8 -9.28125\n",
      "2       1       9 -9.28125\n",
      "3       1      14 -6.78125\n",
      "4       1      16  0.87500\n"
     ],
     "output_type": "stream"
    }
   ],
   "source": [
    "df = df.drop(columns = ['arr'])\n",
    "print(df.head(5))"
   ],
   "metadata": {
    "collapsed": false,
    "pycharm": {
     "name": "#%%\n",
     "is_executing": false
    }
   }
  },
  {
   "cell_type": "code",
   "execution_count": 32,
   "outputs": [
    {
     "name": "stdout",
     "text": [
      "<class 'pandas.core.frame.DataFrame'>\n"
     ],
     "output_type": "stream"
    }
   ],
   "source": [
    "print(type(df))\n",
    "df.to_csv('jester_rating',index=False)"
   ],
   "metadata": {
    "collapsed": false,
    "pycharm": {
     "name": "#%%\n",
     "is_executing": false
    }
   }
  },
  {
   "cell_type": "code",
   "execution_count": 53,
   "outputs": [],
   "source": [
    "df = pd.read_csv('jester_rating_original.csv')"
   ],
   "metadata": {
    "collapsed": false,
    "pycharm": {
     "name": "#%%\n",
     "is_executing": false
    }
   }
  },
  {
   "cell_type": "code",
   "execution_count": 54,
   "outputs": [
    {
     "name": "stdout",
     "text": [
      "    userId  jokeId  rating\n",
      "0        1       6     2.6\n",
      "1        1       8     0.2\n",
      "2        1       9     0.2\n",
      "3        1      14     0.8\n",
      "4        1      16     2.7\n",
      "5        1      17     0.1\n",
      "6        1      18     0.2\n",
      "7        1      19     0.6\n",
      "8        1      20     0.3\n",
      "9        1      21     0.2\n",
      "10       1      22     0.7\n",
      "11       1      23     0.3\n",
      "12       1      24     0.4\n",
      "13       1      25     0.5\n",
      "14       1      26     0.6\n",
      "15       1      27     2.5\n",
      "16       1      28     4.7\n",
      "17       1      30     4.7\n",
      "18       1      32     4.7\n",
      "19       1      33     4.7\n",
      "20       1      35     2.4\n",
      "21       1      36     4.7\n",
      "22       1      37     4.7\n",
      "23       1      43     2.5\n",
      "24       1      50     2.5\n"
     ],
     "output_type": "stream"
    }
   ],
   "source": [
    "df = df.dropna() \n",
    "def map_(data):\n",
    "    \n",
    "    return  round((5.0)/(20.0)*(data+10.0),1)\n",
    "\n",
    "df['rating'] = df['rating'].map(map_)\n",
    "print(df.head(25))"
   ],
   "metadata": {
    "collapsed": false,
    "pycharm": {
     "name": "#%%\n",
     "is_executing": false
    }
   }
  },
  {
   "cell_type": "code",
   "execution_count": 55,
   "outputs": [],
   "source": [
    "df.to_csv('jester_rating_sec.csv',index=False)"
   ],
   "metadata": {
    "collapsed": false,
    "pycharm": {
     "name": "#%%\n",
     "is_executing": false
    }
   }
  }
 ],
 "metadata": {
  "kernelspec": {
   "display_name": "Python 3",
   "language": "python",
   "name": "python3"
  },
  "language_info": {
   "codemirror_mode": {
    "name": "ipython",
    "version": 2
   },
   "file_extension": ".py",
   "mimetype": "text/x-python",
   "name": "python",
   "nbconvert_exporter": "python",
   "pygments_lexer": "ipython2",
   "version": "2.7.6"
  },
  "pycharm": {
   "stem_cell": {
    "cell_type": "raw",
    "source": [],
    "metadata": {
     "collapsed": false
    }
   }
  }
 },
 "nbformat": 4,
 "nbformat_minor": 0
}